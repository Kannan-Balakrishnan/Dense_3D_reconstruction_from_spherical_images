{
 "cells": [
  {
   "cell_type": "code",
   "execution_count": 1,
   "id": "a04a5aec",
   "metadata": {},
   "outputs": [],
   "source": [
    "import matplotlib.pyplot as plt\n",
    "%matplotlib inline\n",
    "import numpy as np\n",
    "import healpy as hp\n",
    "import cv2\n",
    "from scipy.sparse import dok_matrix\n",
    "import os\n",
    "import math\n",
    "import time\n",
    "import traceback\n",
    "from scipy import sparse, spatial\n",
    "from pygsp import utils\n",
    "from pygsp.graphs import Graph\n",
    "from pygsp.graphs.nngraphs.spherehealpix import SphereHealpix"
   ]
  },
  {
   "cell_type": "code",
   "execution_count": 9,
   "id": "a1746720",
   "metadata": {},
   "outputs": [],
   "source": [
    "def calNpix(NSIDE = 512):\n",
    "    print(\n",
    "        \"Approximate resolution at NSIDE {} is {:.2} deg\".format(\n",
    "            NSIDE, hp.nside2resol(NSIDE, arcmin=True) / 60))\n",
    "    NPIX = hp.nside2npix(NSIDE)\n",
    "    print (NPIX)\n",
    "    ipix = np.arange(NPIX)\n",
    "    return ipix, NPIX"
   ]
  },
  {
   "cell_type": "code",
   "execution_count": 3,
   "id": "9fc233c3",
   "metadata": {},
   "outputs": [],
   "source": [
    "def sphericalToSphereMapCoords(phi,theta, imgWidth, imgHeight):\n",
    "    KPi2Inverted=0.002777778\n",
    "    KPiInverted = 0.005555556\n",
    "    x=imgWidth * (1. - (theta * KPi2Inverted)) - .5\n",
    "    y=(imgHeight * phi) * KPiInverted - .5\n",
    "    x=np.round(x)\n",
    "    y=np.round(y)\n",
    "    x=x.astype(int)\n",
    "    y=y.astype(int)\n",
    "    return x,y"
   ]
  },
  {
   "cell_type": "code",
   "execution_count": 36,
   "id": "f7f2a7b6",
   "metadata": {},
   "outputs": [],
   "source": [
    "def sampleImage(path,x,y):\n",
    "    i=1\n",
    "    for filename in os.listdir(path):\n",
    "        if filename.endswith(\".jpg\") or filename.endswith(\".png\"):\n",
    "            img=cv2.imread(filename)\n",
    "            img=cv2.cvtColor(img, cv2.COLOR_BGR2RGB)\n",
    "            #print (array)\n",
    "            #print (img.shape)\n",
    "            #print (y,x)\n",
    "            #print (img[y,x])\n",
    "            array=img[y,x]\n",
    "            np.save(str(i),array)\n",
    "            i=i+1"
   ]
  },
  {
   "cell_type": "code",
   "execution_count": 37,
   "id": "c1fc1fdd",
   "metadata": {},
   "outputs": [],
   "source": [
    "def main():\n",
    "    NSIDE=512\n",
    "    ipix, NPIX=calNpix(NSIDE)\n",
    "    #Getting the values of phi and theta for all the pixels\n",
    "    phi, theta = np.degrees(hp.pix2ang(nside=NSIDE, ipix=ipix)) #where phi is between 0 and 180, theta is \n",
    "                                                          #between 0 and 360   \n",
    "    subdivisions = int(math.sqrt(NPIX / 12))\n",
    "    #G = SphereHealpix(subdivisions, nest=True, k=20)\n",
    "    x,y=sphericalToSphereMapCoords(phi,theta,3535,1768)\n",
    "    sampleImage('.',x,y)"
   ]
  },
  {
   "cell_type": "code",
   "execution_count": 38,
   "id": "95f21ed6",
   "metadata": {},
   "outputs": [
    {
     "name": "stdout",
     "output_type": "stream",
     "text": [
      "Approximate resolution at NSIDE 512 is 0.11 deg\n",
      "3145728\n",
      "(1768, 3535, 3)\n",
      "[   0    0    0 ... 1767 1767 1767] [3093 2209 1325 ... 2209 1325  441]\n",
      "[[102  86  73]\n",
      " [102  86  73]\n",
      " [101  85  72]\n",
      " ...\n",
      " [189 138  85]\n",
      " [184 137  85]\n",
      " [187 140  88]]\n",
      "(1768, 3535, 3)\n",
      "[   0    0    0 ... 1767 1767 1767] [3093 2209 1325 ... 2209 1325  441]\n",
      "[[100  86  75]\n",
      " [100  86  73]\n",
      " [105  88  78]\n",
      " ...\n",
      " [187 141  82]\n",
      " [182 136  84]\n",
      " [179 133  83]]\n",
      "(1768, 3535, 3)\n",
      "[   0    0    0 ... 1767 1767 1767] [3093 2209 1325 ... 2209 1325  441]\n",
      "[[100  84  71]\n",
      " [101  85  72]\n",
      " [100  82  70]\n",
      " ...\n",
      " [200 157 115]\n",
      " [200 155 114]\n",
      " [199 156 113]]\n"
     ]
    }
   ],
   "source": [
    "main()"
   ]
  },
  {
   "cell_type": "code",
   "execution_count": 25,
   "id": "b31dd4db",
   "metadata": {},
   "outputs": [
    {
     "data": {
      "text/plain": [
       "array([ 83, 142, 192], dtype=uint8)"
      ]
     },
     "execution_count": 25,
     "metadata": {},
     "output_type": "execute_result"
    }
   ],
   "source": [
    "img=cv2.imread('00000001.jpg')\n",
    "img[1390,2]"
   ]
  },
  {
   "cell_type": "code",
   "execution_count": null,
   "id": "d5e54619",
   "metadata": {
    "scrolled": true
   },
   "outputs": [],
   "source": [
    "#code adapted from https://math.stackexchange.com/questions/243142/what-is-the-general-formula-for-calculating-dot-and-cross-products-in-spherical\n",
    "phi_sin=np.sin(phi)\n",
    "phi_cos=np.cos(phi)\n",
    "theta_sin=np.sin(theta)\n",
    "theta_cos=np.cos(theta)\n",
    "x=[0]\n",
    "start = time.time()\n",
    "#x=np.arange(1000)                 # Made a trial run for 1000 pixels but we should loop it over 786287 pixels (ipix)\n",
    "for i in ipix:\n",
    "    vector_product=((phi_sin[i]*phi_sin*(theta_cos[i]*theta_cos+theta_sin[i]*theta_sin)+phi_cos[i]*phi_cos)>0.9996) \n",
    "    #0.99998 is a hyper parameter based on the number of neighbours we want\n",
    "    index=np.nonzero(vector_product)\n",
    "    X_i =\n",
    "    S[i, index] = 1\n",
    "    \n",
    "end =time.time()\n",
    "print (end-start)"
   ]
  },
  {
   "cell_type": "code",
   "execution_count": null,
   "id": "238c3fcf",
   "metadata": {},
   "outputs": [],
   "source": [
    "csr_matrix=S.tocsr() "
   ]
  },
  {
   "cell_type": "code",
   "execution_count": null,
   "id": "036f212b",
   "metadata": {},
   "outputs": [],
   "source": []
  },
  {
   "cell_type": "code",
   "execution_count": null,
   "id": "b063855f",
   "metadata": {},
   "outputs": [],
   "source": []
  },
  {
   "cell_type": "code",
   "execution_count": null,
   "id": "883ddc2f",
   "metadata": {},
   "outputs": [],
   "source": []
  },
  {
   "cell_type": "code",
   "execution_count": null,
   "id": "4c7a3cad",
   "metadata": {},
   "outputs": [],
   "source": []
  },
  {
   "cell_type": "code",
   "execution_count": null,
   "id": "a2352012",
   "metadata": {},
   "outputs": [],
   "source": []
  },
  {
   "cell_type": "code",
   "execution_count": null,
   "id": "d6b8b7a6",
   "metadata": {},
   "outputs": [],
   "source": []
  },
  {
   "cell_type": "code",
   "execution_count": null,
   "id": "9e489bf6",
   "metadata": {},
   "outputs": [],
   "source": []
  },
  {
   "cell_type": "code",
   "execution_count": null,
   "id": "df0e9d9e",
   "metadata": {},
   "outputs": [],
   "source": []
  }
 ],
 "metadata": {
  "kernelspec": {
   "display_name": "Python 3",
   "language": "python",
   "name": "python3"
  },
  "language_info": {
   "codemirror_mode": {
    "name": "ipython",
    "version": 3
   },
   "file_extension": ".py",
   "mimetype": "text/x-python",
   "name": "python",
   "nbconvert_exporter": "python",
   "pygments_lexer": "ipython3",
   "version": "3.8.8"
  }
 },
 "nbformat": 4,
 "nbformat_minor": 5
}
