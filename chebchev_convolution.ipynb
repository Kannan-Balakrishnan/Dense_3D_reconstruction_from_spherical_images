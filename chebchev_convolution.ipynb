{
 "cells": [
  {
   "cell_type": "code",
   "execution_count": 17,
   "id": "fd351ae5",
   "metadata": {},
   "outputs": [
    {
     "data": {
      "text/plain": [
       "<torch._C.Generator at 0x7f539d6f4a90>"
      ]
     },
     "execution_count": 17,
     "metadata": {},
     "output_type": "execute_result"
    }
   ],
   "source": [
    "import torch\n",
    "from torch.nn import Linear\n",
    "from torch_geometric.nn import ChebConv\n",
    "import torchvision\n",
    "import pygsp\n",
    "import networkx as nx \n",
    "from torch_geometric.data import Data\n",
    "from torch_geometric.utils import from_networkx\n",
    "from pygsp.graphs.nngraphs.spherehealpix import SphereHealpix\n",
    "from torch_geometric.nn import knn_graph\n",
    "import numpy as np\n",
    "import pandas as pd\n",
    "import matplotlib.pyplot as plt\n",
    "from sklearn.neighbors import BallTree\n",
    "import networkx as nx\n",
    "import yaml\n",
    "from healpix_pool_unpool import Healpix\n",
    "import math\n",
    "\n",
    "torch.manual_seed(1234)"
   ]
  },
  {
   "cell_type": "code",
   "execution_count": 2,
   "id": "9d5e9971",
   "metadata": {},
   "outputs": [
    {
     "data": {
      "text/plain": [
       "torch.Size([1, 3145728, 3])"
      ]
     },
     "execution_count": 2,
     "metadata": {},
     "output_type": "execute_result"
    }
   ],
   "source": [
    "#gra=from_networkx(gra)\n",
    "data=np.load(\"processed_images/00000001.npy\")\n",
    "data=torchvision.transforms.functional.to_tensor(data)\n",
    "data.shape"
   ]
  },
  {
   "cell_type": "code",
   "execution_count": 55,
   "id": "f8e3b8a4",
   "metadata": {},
   "outputs": [
    {
     "name": "stdout",
     "output_type": "stream",
     "text": [
      "chebchevconvolution(\n",
      "  (conv): ChebConv(4, 2, K=3, normalization=sym)\n",
      ")\n"
     ]
    }
   ],
   "source": [
    "class chebchevconvolution(torch.nn.Module):\n",
    "    def __init__(self):\n",
    "        super(chebchevconvolution, self).__init__()\n",
    "        self.edge_index=[]\n",
    "        self.weight=[]\n",
    "        self.conv_layer=[]\n",
    "        self.model_parameters()\n",
    "        self.create_architecture()\n",
    "        \n",
    "    def create_architecture(self):\n",
    "        for i in range(self.depth):\n",
    "            if (i==0):\n",
    "                self.conv=ChebConv(self.input_channels_convolutionlayer,self.output_channels_convolutionlayer[i],self.kernel_size)\n",
    "                self.conv_layer.append(self.conv)\n",
    "            else:\n",
    "                self.conv=ChebConv(self.output_channels_convolutionlayer[i-1],self.output_channels_convolutionlayer[i],self.kernel_size)\n",
    "                self.conv_layer.append(self.conv)\n",
    "            subdivisions = int(self.healpix_resolution_calculator(self.n_pixels)/2**i)\n",
    "            Graph_pygsp = SphereHealpix(subdivisions, nest=True, k=20)\n",
    "            graph_netx=Graph_pygsp.to_networkx()\n",
    "            graph_pyg=from_networkx(graph_netx)\n",
    "            edge_idx=graph_pyg.edge_index\n",
    "            self.edge_index.append(edge_idx)\n",
    "            weight=graph_pyg.weight\n",
    "            self.weight.append(weight)\n",
    "        self.pooling_class=Healpix()\n",
    "            \n",
    "            \n",
    "    def healpix_resolution_calculator(self,nodes):\n",
    "        \"\"\"Calculate the resolution of a healpix graph\n",
    "        for a given number of nodes.\n",
    "        Args:\n",
    "            nodes (int): number of nodes in healpix sampling\n",
    "        Returns:\n",
    "            int: resolution for the matching healpix graph\n",
    "        \"\"\" \n",
    "        resolution = int(math.sqrt(nodes / 12))\n",
    "        return resolution\n",
    "        \n",
    "    def model_parameters(self):\n",
    "        filename=\"config.yml\"\n",
    "        output_channels_convolutionlayer=[]\n",
    "        with open(filename) as f:\n",
    "            my_dict = yaml.safe_load(f)\n",
    "            self.n_pixels=my_dict[\"IMAGE PARAMS\"][\"n_pixels\"]\n",
    "            self.depth=my_dict[\"IMAGE PARAMS\"][\"depth\"]\n",
    "            self.kernel_size=my_dict[\"MODEL PARAMS\"][\"kernel_size\"]\n",
    "            self.input_channels_convolutionlayer=my_dict[\"MODEL PARAMS\"][\"input_channels\"]\n",
    "            self.output_channels_convolutionlayer=my_dict[\"MODEL PARAMS\"][\"output_channels\"]\n",
    "            assert (self.depth==len(self.output_channels_convolutionlayer)),\"Please check the config.yml file. The depth (under image params) and len(output channel) (under Model params) should be equal\"\n",
    "\n",
    "        \n",
    "\n",
    "    def forward(self, x):\n",
    "        for i in range(self.depth):\n",
    "            if i==0:\n",
    "                self.h = self.conv_layer[i](x, self.edge_index[i],self.weight[i])\n",
    "            else:\n",
    "                self.h=self.conv_layer[i](self.h, self.edge_index[i],self.weight[i])\n",
    "            self.h =self.pooling_class.pooling(self.h)\n",
    "            \n",
    "        \n",
    "          # Final GNN embedding space.\n",
    "        \n",
    "        # Apply a final (linear) classifier.\n",
    "\n",
    "\n",
    "        return self.h\n",
    "model = chebchevconvolution()\n",
    "print(model)"
   ]
  },
  {
   "cell_type": "code",
   "execution_count": 56,
   "id": "8b7b4b8e",
   "metadata": {},
   "outputs": [],
   "source": [
    "h = model(data)"
   ]
  },
  {
   "cell_type": "code",
   "execution_count": 47,
   "id": "fa3e4b84",
   "metadata": {},
   "outputs": [
    {
     "data": {
      "text/plain": [
       "[tensor([0.4926, 0.4926, 0.3047,  ..., 0.3047, 0.4926, 0.4926]),\n",
       " tensor([0.4929, 0.4929, 0.3028,  ..., 0.3028, 0.4929, 0.4929]),\n",
       " tensor([0.4939, 0.4939, 0.2951,  ..., 0.2951, 0.4939, 0.4939])]"
      ]
     },
     "execution_count": 47,
     "metadata": {},
     "output_type": "execute_result"
    }
   ],
   "source": [
    "model.weight"
   ]
  },
  {
   "cell_type": "code",
   "execution_count": 57,
   "id": "33fb9caf",
   "metadata": {},
   "outputs": [
    {
     "data": {
      "text/plain": [
       "tensor([[[-0.7696, -1.4220],\n",
       "         [-0.7985, -1.4004],\n",
       "         [-0.7681, -1.3793],\n",
       "         ...,\n",
       "         [ 0.0000,  0.0000],\n",
       "         [ 0.0000,  0.0000],\n",
       "         [ 0.0000,  0.0000]]], grad_fn=<PermuteBackward0>)"
      ]
     },
     "execution_count": 57,
     "metadata": {},
     "output_type": "execute_result"
    }
   ],
   "source": [
    "h"
   ]
  },
  {
   "cell_type": "code",
   "execution_count": 58,
   "id": "96fb62d3",
   "metadata": {},
   "outputs": [
    {
     "data": {
      "text/plain": [
       "torch.Size([1, 49152, 2])"
      ]
     },
     "execution_count": 58,
     "metadata": {},
     "output_type": "execute_result"
    }
   ],
   "source": [
    "h.shape"
   ]
  },
  {
   "cell_type": "code",
   "execution_count": null,
   "id": "1b6d3cb0",
   "metadata": {},
   "outputs": [],
   "source": []
  },
  {
   "cell_type": "code",
   "execution_count": null,
   "id": "371004f0",
   "metadata": {},
   "outputs": [],
   "source": [
    "h[0,31457]"
   ]
  },
  {
   "cell_type": "code",
   "execution_count": 60,
   "id": "64a1137c",
   "metadata": {},
   "outputs": [
    {
     "data": {
      "text/plain": [
       "49152.0"
      ]
     },
     "execution_count": 60,
     "metadata": {},
     "output_type": "execute_result"
    }
   ],
   "source": [
    "import healpy as hp\n",
    "hp.nside2npix(512/8)"
   ]
  },
  {
   "cell_type": "code",
   "execution_count": null,
   "id": "f2a440de",
   "metadata": {},
   "outputs": [],
   "source": [
    "h.indices"
   ]
  },
  {
   "cell_type": "code",
   "execution_count": null,
   "id": "dcca6519",
   "metadata": {},
   "outputs": [],
   "source": []
  }
 ],
 "metadata": {
  "kernelspec": {
   "display_name": "Python 3",
   "language": "python",
   "name": "python3"
  },
  "language_info": {
   "codemirror_mode": {
    "name": "ipython",
    "version": 3
   },
   "file_extension": ".py",
   "mimetype": "text/x-python",
   "name": "python",
   "nbconvert_exporter": "python",
   "pygments_lexer": "ipython3",
   "version": "3.9.7"
  }
 },
 "nbformat": 4,
 "nbformat_minor": 5
}
