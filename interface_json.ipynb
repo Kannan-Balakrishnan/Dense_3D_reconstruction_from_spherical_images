{
 "cells": [
  {
   "cell_type": "code",
   "execution_count": 4,
   "id": "bb115f5e",
   "metadata": {},
   "outputs": [],
   "source": [
    "import json\n",
    "import healpy as hp\n",
    "from healpix_sampling import calNpix\n",
    "import numpy as np"
   ]
  },
  {
   "cell_type": "code",
   "execution_count": 5,
   "id": "ef8e44b0",
   "metadata": {},
   "outputs": [],
   "source": [
    "def create_json(NSIDE=512):\n",
    "    ipix, NPIX=calNpix(NSIDE)\n",
    "    phi, theta = np.degrees(hp.pix2ang(nside=NSIDE, ipix=ipix))\n",
    "    phi = np.array(phi)\n",
    "    theta = np.array(theta)\n",
    "    keypts = np.empty((phi.size + theta.size,), dtype=phi.dtype)\n",
    "    keypts[0::2] = phi\n",
    "    keypts[1::2] = theta\n",
    "    keypts=keypts.tolist()\n",
    "    interface_dict = {'keypointCoords': keypts}\n",
    "    person_json = json.dumps(interface_dict)\n",
    "    with open(\"sample.json\", \"w\") as outfile:\n",
    "        outfile.write(person_json)\n"
   ]
  },
  {
   "cell_type": "code",
   "execution_count": 7,
   "id": "52eac7e3",
   "metadata": {},
   "outputs": [
    {
     "name": "stdout",
     "output_type": "stream",
     "text": [
      "Approximate resolution at NSIDE 16 is 3.7 deg\n"
     ]
    }
   ],
   "source": [
    "create_json(16)"
   ]
  },
  {
   "cell_type": "code",
   "execution_count": null,
   "id": "355b8220",
   "metadata": {},
   "outputs": [],
   "source": []
  },
  {
   "cell_type": "code",
   "execution_count": null,
   "id": "5d20b1f7",
   "metadata": {},
   "outputs": [],
   "source": []
  },
  {
   "cell_type": "code",
   "execution_count": null,
   "id": "420c1f27",
   "metadata": {},
   "outputs": [],
   "source": []
  },
  {
   "cell_type": "code",
   "execution_count": null,
   "id": "85d35bd3",
   "metadata": {},
   "outputs": [],
   "source": []
  },
  {
   "cell_type": "code",
   "execution_count": null,
   "id": "dae10e3b",
   "metadata": {},
   "outputs": [],
   "source": []
  }
 ],
 "metadata": {
  "kernelspec": {
   "display_name": "Python 3",
   "language": "python",
   "name": "python3"
  },
  "language_info": {
   "codemirror_mode": {
    "name": "ipython",
    "version": 3
   },
   "file_extension": ".py",
   "mimetype": "text/x-python",
   "name": "python",
   "nbconvert_exporter": "python",
   "pygments_lexer": "ipython3",
   "version": "3.9.7"
  }
 },
 "nbformat": 4,
 "nbformat_minor": 5
}
