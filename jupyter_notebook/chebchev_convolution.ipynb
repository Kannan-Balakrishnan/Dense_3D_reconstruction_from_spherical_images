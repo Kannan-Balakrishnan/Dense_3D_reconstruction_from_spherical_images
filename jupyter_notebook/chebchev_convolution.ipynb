{
 "cells": [
  {
   "cell_type": "code",
   "execution_count": 1,
   "id": "fd351ae5",
   "metadata": {},
   "outputs": [
    {
     "data": {
      "text/plain": [
       "<torch._C.Generator at 0x7f4ad4131a90>"
      ]
     },
     "execution_count": 1,
     "metadata": {},
     "output_type": "execute_result"
    }
   ],
   "source": [
    "import torch\n",
    "from torch.nn import Linear\n",
    "from torch_geometric.nn import ChebConv\n",
    "import torchvision\n",
    "import pygsp\n",
    "import networkx as nx \n",
    "from torch_geometric.data import Data\n",
    "from torch_geometric.utils import from_networkx\n",
    "from pygsp.graphs.nngraphs.spherehealpix import SphereHealpix\n",
    "from torch_geometric.nn import knn_graph\n",
    "import numpy as np\n",
    "import pandas as pd\n",
    "import matplotlib.pyplot as plt\n",
    "from sklearn.neighbors import BallTree\n",
    "import networkx as nx\n",
    "import yaml\n",
    "from healpix_pool_unpool import Healpix\n",
    "import math\n",
    "from coordinateconversion import CoordinateConversions\n",
    "from healpix_sampling import calNpix\n",
    "import healpy as hp\n",
    "import cv2\n",
    "\n",
    "from small_encoder import SmallEncoder\n",
    "\n",
    "torch.manual_seed(1234)"
   ]
  },
  {
   "cell_type": "code",
   "execution_count": 2,
   "id": "9d5e9971",
   "metadata": {},
   "outputs": [
    {
     "data": {
      "text/plain": [
       "torch.Size([1, 3145728, 3])"
      ]
     },
     "execution_count": 2,
     "metadata": {},
     "output_type": "execute_result"
    }
   ],
   "source": [
    "#gra=from_networkx(gra)\n",
    "data=np.load(\"processed_images/00000001.npy\")\n",
    "data=torchvision.transforms.functional.to_tensor(data)\n",
    "data.shape"
   ]
  },
  {
   "cell_type": "code",
   "execution_count": 5,
   "id": "f8e3b8a4",
   "metadata": {},
   "outputs": [
    {
     "name": "stdout",
     "output_type": "stream",
     "text": [
      "chebchevconvolution(\n",
      "  (fnet): SmallEncoder(\n",
      "    (norm1): BatchNorm(32)\n",
      "    (conv1): ChebConv(3, 32, K=7, normalization=sym)\n",
      "    (relu1): ReLU(inplace=True)\n",
      "    (layer1): mySequential(\n",
      "      (0): BottleneckBlock(\n",
      "        (conv1): ChebConv(32, 8, K=1, normalization=sym)\n",
      "        (conv2): ChebConv(8, 8, K=3, normalization=sym)\n",
      "        (conv3): ChebConv(8, 32, K=1, normalization=sym)\n",
      "        (relu): ReLU(inplace=True)\n",
      "        (norm1): BatchNorm(8)\n",
      "        (norm2): BatchNorm(8)\n",
      "        (norm3): BatchNorm(32)\n",
      "      )\n",
      "      (1): BottleneckBlock(\n",
      "        (conv1): ChebConv(32, 8, K=1, normalization=sym)\n",
      "        (conv2): ChebConv(8, 8, K=3, normalization=sym)\n",
      "        (conv3): ChebConv(8, 32, K=1, normalization=sym)\n",
      "        (relu): ReLU(inplace=True)\n",
      "        (norm1): BatchNorm(8)\n",
      "        (norm2): BatchNorm(8)\n",
      "        (norm3): BatchNorm(32)\n",
      "      )\n",
      "    )\n",
      "    (layer2): mySequential(\n",
      "      (0): BottleneckBlock(\n",
      "        (conv1): ChebConv(32, 16, K=1, normalization=sym)\n",
      "        (conv2): ChebConv(16, 16, K=3, normalization=sym)\n",
      "        (conv3): ChebConv(16, 64, K=1, normalization=sym)\n",
      "        (relu): ReLU(inplace=True)\n",
      "        (norm1): BatchNorm(16)\n",
      "        (norm2): BatchNorm(16)\n",
      "        (norm3): BatchNorm(64)\n",
      "      )\n",
      "      (1): BottleneckBlock(\n",
      "        (conv1): ChebConv(64, 16, K=1, normalization=sym)\n",
      "        (conv2): ChebConv(16, 16, K=3, normalization=sym)\n",
      "        (conv3): ChebConv(16, 64, K=1, normalization=sym)\n",
      "        (relu): ReLU(inplace=True)\n",
      "        (norm1): BatchNorm(16)\n",
      "        (norm2): BatchNorm(16)\n",
      "        (norm3): BatchNorm(64)\n",
      "      )\n",
      "    )\n",
      "    (layer3): mySequential(\n",
      "      (0): BottleneckBlock(\n",
      "        (conv1): ChebConv(64, 24, K=1, normalization=sym)\n",
      "        (conv2): ChebConv(24, 24, K=3, normalization=sym)\n",
      "        (conv3): ChebConv(24, 96, K=1, normalization=sym)\n",
      "        (relu): ReLU(inplace=True)\n",
      "        (norm1): BatchNorm(24)\n",
      "        (norm2): BatchNorm(24)\n",
      "        (norm3): BatchNorm(96)\n",
      "      )\n",
      "      (1): BottleneckBlock(\n",
      "        (conv1): ChebConv(96, 24, K=1, normalization=sym)\n",
      "        (conv2): ChebConv(24, 24, K=3, normalization=sym)\n",
      "        (conv3): ChebConv(24, 96, K=1, normalization=sym)\n",
      "        (relu): ReLU(inplace=True)\n",
      "        (norm1): BatchNorm(24)\n",
      "        (norm2): BatchNorm(24)\n",
      "        (norm3): BatchNorm(96)\n",
      "      )\n",
      "    )\n",
      "    (conv2): ChebConv(96, 3, K=3, normalization=sym)\n",
      "  )\n",
      ")\n"
     ]
    }
   ],
   "source": [
    "class chebchevconvolution(torch.nn.Module):\n",
    "    def __init__(self):\n",
    "        super(chebchevconvolution, self).__init__()\n",
    "        self.edge_index=[]\n",
    "        self.weight=[]\n",
    "        self.conv_layer=[]\n",
    "        self.model_parameters()\n",
    "        self.create_architecture()\n",
    "        \n",
    "    def create_architecture(self):\n",
    "        self.fnet = SmallEncoder(self)        \n",
    "        #self.cnet = SmallEncoder(self)\n",
    "        for i in range(self.depth):\n",
    "            subdivisions = int(self.healpix_resolution_calculator(self.n_pixels)/2**i)\n",
    "            Graph_pygsp = SphereHealpix(subdivisions, nest=True, k=20)\n",
    "            graph_netx=Graph_pygsp.to_networkx()\n",
    "            graph_pyg=from_networkx(graph_netx)\n",
    "            edge_idx=graph_pyg.edge_index\n",
    "            self.edge_index.append(edge_idx)\n",
    "            weight=graph_pyg.weight\n",
    "            self.weight.append(weight)\n",
    "        \n",
    "            \n",
    "            \n",
    "    def healpix_resolution_calculator(self,nodes):\n",
    "        \"\"\"Calculate the resolution of a healpix graph\n",
    "        for a given number of nodes.\n",
    "        Args:\n",
    "            nodes (int): number of nodes in healpix sampling\n",
    "        Returns:\n",
    "            int: resolution for the matching healpix graph\n",
    "        \"\"\" \n",
    "        resolution = int(math.sqrt(nodes / 12))\n",
    "        return resolution\n",
    "        \n",
    "    def model_parameters(self):\n",
    "        filename=\"config.yml\"\n",
    "        output_channels_convolutionlayer=[]\n",
    "        with open(filename) as f:\n",
    "            my_dict = yaml.safe_load(f)\n",
    "            self.n_pixels=my_dict[\"IMAGE PARAMS\"][\"n_pixels\"]\n",
    "            self.norm_fn='batch'\n",
    "            self.depth=my_dict[\"IMAGE PARAMS\"][\"depth\"]\n",
    "            self.conv1_input_channels=my_dict[\"MODEL PARAMS\"][\"conv1_input_channels\"]\n",
    "            self.conv1_output_channels=my_dict[\"MODEL PARAMS\"][\"conv1_output_channels\"]\n",
    "            self.conv1_kernel_size=my_dict[\"MODEL PARAMS\"][\"conv1_kernel_size\"]\n",
    "            self.bottleneck_layer1_input_channels=my_dict[\"MODEL PARAMS\"][\"bottleneck_layer1_input_channels\"]\n",
    "            self.bottleneck_layer1_kernel_size=my_dict[\"MODEL PARAMS\"][\"bottleneck_layer1_kernel_size\"]\n",
    "            self.bottleneck_layer1_output_channels=my_dict[\"MODEL PARAMS\"][\"bottleneck_layer1_output_channels\"]\n",
    "            self.bottleneck_layer2_kernel_size=my_dict[\"MODEL PARAMS\"][\"bottleneck_layer2_kernel_size\"]\n",
    "            self.bottleneck_layer2_output_channels=my_dict[\"MODEL PARAMS\"][\"bottleneck_layer2_output_channels\"]\n",
    "            self.bottleneck_layer3_kernel_size=my_dict[\"MODEL PARAMS\"][\"bottleneck_layer3_kernel_size\"]\n",
    "            self.conv2_input_channels=my_dict[\"MODEL PARAMS\"][\"conv2_input_channels\"]\n",
    "            self.conv2_kernel_size=my_dict[\"MODEL PARAMS\"][\"conv2_kernel_size\"]\n",
    "            self.conv2_output_channels=my_dict[\"MODEL PARAMS\"][\"conv2_output_channels\"]\n",
    "            self.norm_fn=my_dict[\"MODEL PARAMS\"][\"norm_fn\"]\n",
    "            #assert (self.depth==len(self.output_channels_convolutionlayer)),\"Please check the config.yml file. The depth (under image params) and len(output channel) (under Model params) should be equal\"\n",
    "\n",
    "        \n",
    "\n",
    "    def forward(self, x):\n",
    "        h=self.fnet(x, self)\n",
    "        \n",
    "        #self.update_block = SmallUpdateBlock(self.args, hidden_dim=hdim)\n",
    "\n",
    "        return h\n",
    "model = chebchevconvolution()\n",
    "print(model)"
   ]
  },
  {
   "cell_type": "code",
   "execution_count": 6,
   "id": "8b7b4b8e",
   "metadata": {},
   "outputs": [],
   "source": [
    "h = model(data)"
   ]
  },
  {
   "cell_type": "code",
   "execution_count": null,
   "id": "fa3e4b84",
   "metadata": {},
   "outputs": [],
   "source": []
  },
  {
   "cell_type": "code",
   "execution_count": 8,
   "id": "33fb9caf",
   "metadata": {},
   "outputs": [],
   "source": [
    "h=h.detach().numpy()"
   ]
  },
  {
   "cell_type": "code",
   "execution_count": 9,
   "id": "96fb62d3",
   "metadata": {},
   "outputs": [],
   "source": [
    "np.save(\"test.npy\",h)"
   ]
  },
  {
   "cell_type": "code",
   "execution_count": 15,
   "id": "1b6d3cb0",
   "metadata": {},
   "outputs": [
    {
     "data": {
      "text/plain": [
       "(1, 49152, 3)"
      ]
     },
     "execution_count": 15,
     "metadata": {},
     "output_type": "execute_result"
    }
   ],
   "source": [
    "h.shape"
   ]
  },
  {
   "cell_type": "code",
   "execution_count": 12,
   "id": "371004f0",
   "metadata": {},
   "outputs": [],
   "source": []
  },
  {
   "cell_type": "code",
   "execution_count": 13,
   "id": "64a1137c",
   "metadata": {},
   "outputs": [],
   "source": [
    "coord_convert=CoordinateConversions()"
   ]
  },
  {
   "cell_type": "code",
   "execution_count": 24,
   "id": "f2a440de",
   "metadata": {},
   "outputs": [
    {
     "name": "stdout",
     "output_type": "stream",
     "text": [
      "Approximate resolution at NSIDE 64 is 0.92 deg\n"
     ]
    }
   ],
   "source": [
    "NSIDE=64\n",
    "ipix, NPIX=calNpix(NSIDE)"
   ]
  },
  {
   "cell_type": "code",
   "execution_count": 113,
   "id": "dcca6519",
   "metadata": {},
   "outputs": [],
   "source": [
    "imgWidth=3500\n",
    "imgHeight=1750\n",
    "phi, theta = np.degrees(hp.pix2ang(nside=NSIDE, ipix=ipix))"
   ]
  },
  {
   "cell_type": "code",
   "execution_count": 114,
   "id": "30a714f0",
   "metadata": {},
   "outputs": [],
   "source": [
    "x,y=coord_convert.sphericalToSphereMapCoords(np.deg2rad(phi),np.deg2rad(theta),imgWidth,imgHeight)\n",
    "x=x.astype(int)\n",
    "y=y.astype(int)"
   ]
  },
  {
   "cell_type": "code",
   "execution_count": 115,
   "id": "17aa108f",
   "metadata": {},
   "outputs": [],
   "source": [
    "empty_image=np.full((imgHeight,imgWidth,3),[255,255,255], dtype=np.uint8)"
   ]
  },
  {
   "cell_type": "code",
   "execution_count": 116,
   "id": "bb1b9eeb",
   "metadata": {},
   "outputs": [],
   "source": [
    "R=np.array(h[0,ipix,0])\n",
    "G=np.array(h[0,ipix,1])\n",
    "B=np.array(h[0,ipix,2])\n",
    "RGB=np.column_stack((R,G,B))\n",
    "empty_image[y,x]=RGB[ipix]"
   ]
  },
  {
   "cell_type": "code",
   "execution_count": 117,
   "id": "4f0623be",
   "metadata": {},
   "outputs": [
    {
     "data": {
      "text/plain": [
       "True"
      ]
     },
     "execution_count": 117,
     "metadata": {},
     "output_type": "execute_result"
    }
   ],
   "source": [
    "cv2.imwrite(\"test.jpg\", empty_image)"
   ]
  },
  {
   "cell_type": "code",
   "execution_count": 118,
   "id": "77dc2554",
   "metadata": {},
   "outputs": [
    {
     "data": {
      "text/plain": [
       "(1750, 3500, 3)"
      ]
     },
     "execution_count": 118,
     "metadata": {},
     "output_type": "execute_result"
    }
   ],
   "source": [
    "empty_image.shape"
   ]
  },
  {
   "cell_type": "code",
   "execution_count": 119,
   "id": "c1d21c69",
   "metadata": {},
   "outputs": [
    {
     "data": {
      "text/plain": [
       "array([[[255, 255, 255],\n",
       "        [255, 255, 255],\n",
       "        [255, 255, 255],\n",
       "        ...,\n",
       "        [255, 255, 255],\n",
       "        [255, 255, 255],\n",
       "        [255, 255, 255]],\n",
       "\n",
       "       [[255, 255, 255],\n",
       "        [255, 255, 255],\n",
       "        [255, 255, 255],\n",
       "        ...,\n",
       "        [255, 255, 255],\n",
       "        [255, 255, 255],\n",
       "        [255, 255, 255]],\n",
       "\n",
       "       [[255, 255, 255],\n",
       "        [255, 255, 255],\n",
       "        [255, 255, 255],\n",
       "        ...,\n",
       "        [255, 255, 255],\n",
       "        [255, 255, 255],\n",
       "        [255, 255, 255]],\n",
       "\n",
       "       ...,\n",
       "\n",
       "       [[255, 255, 255],\n",
       "        [255, 255, 255],\n",
       "        [255, 255, 255],\n",
       "        ...,\n",
       "        [255, 255, 255],\n",
       "        [255, 255, 255],\n",
       "        [255, 255, 255]],\n",
       "\n",
       "       [[255, 255, 255],\n",
       "        [255, 255, 255],\n",
       "        [255, 255, 255],\n",
       "        ...,\n",
       "        [255, 255, 255],\n",
       "        [255, 255, 255],\n",
       "        [255, 255, 255]],\n",
       "\n",
       "       [[255, 255, 255],\n",
       "        [255, 255, 255],\n",
       "        [255, 255, 255],\n",
       "        ...,\n",
       "        [255, 255, 255],\n",
       "        [255, 255, 255],\n",
       "        [255, 255, 255]]], dtype=uint8)"
      ]
     },
     "execution_count": 119,
     "metadata": {},
     "output_type": "execute_result"
    }
   ],
   "source": [
    "empty_image"
   ]
  },
  {
   "cell_type": "code",
   "execution_count": null,
   "id": "7118322b",
   "metadata": {},
   "outputs": [],
   "source": []
  }
 ],
 "metadata": {
  "kernelspec": {
   "display_name": "Python 3",
   "language": "python",
   "name": "python3"
  },
  "language_info": {
   "codemirror_mode": {
    "name": "ipython",
    "version": 3
   },
   "file_extension": ".py",
   "mimetype": "text/x-python",
   "name": "python",
   "nbconvert_exporter": "python",
   "pygments_lexer": "ipython3",
   "version": "3.9.7"
  }
 },
 "nbformat": 4,
 "nbformat_minor": 5
}
