{
 "cells": [
  {
   "cell_type": "code",
   "execution_count": 4,
   "id": "e4e6f2f7",
   "metadata": {},
   "outputs": [],
   "source": [
    "import torch\n",
    "import torch_geometric.nn as nn"
   ]
  },
  {
   "cell_type": "code",
   "execution_count": 5,
   "id": "7f20c26d",
   "metadata": {},
   "outputs": [],
   "source": [
    "class BottleneckBlock(torch.nn.Module):\n",
    "    def __init__(self, in_planes, planes, norm_fn='batch', stride=1):\n",
    "        super(BottleneckBlock, self).__init__()\n",
    "  \n",
    "        self.conv1 = nn.ChebConv(in_planes, planes//4, self.bottleneck_layer1_kernel_size)\n",
    "        self.conv2 = nn.ChebConv(planes//4, planes//4, self.bottleneck_layer2_kernel_size)\n",
    "        self.conv3 = nn.ChebConv(planes//4, planes,self.bottleneck_layer3_kernel_size)\n",
    "        self.relu = torch.nn.ReLU(inplace=True)\n",
    "\n",
    "        num_groups = planes // 8\n",
    "        \n",
    "        if norm_fn == 'batch':\n",
    "            self.norm1 = nn.BatchNorm(planes//4)\n",
    "            self.norm2 = nn.BatchNorm(planes//4)\n",
    "            self.norm3 = nn.BatchNorm(planes)\n",
    "            if not stride == 1:\n",
    "                self.norm4 = nn.BatchNorm(planes)\n",
    "        \n",
    "        elif norm_fn == 'instance':\n",
    "            self.norm1 = nn.InstanceNorm(planes//4)\n",
    "            self.norm2 = nn.InstanceNorm(planes//4)\n",
    "            self.norm3 = nn.InstanceNorm(planes)\n",
    "            if not stride == 1:\n",
    "                self.norm4 = nn.InstanceNorm2d(planes)\n",
    "\n",
    "        \n",
    "        if stride == 1:\n",
    "            self.downsample = None\n",
    "        \n",
    "        else:    \n",
    "            self.downsample = torch.nn.Sequential(\n",
    "                nn.Conv2d(in_planes, planes, kernel_size=1, stride=stride), self.norm4)\n",
    "\n",
    "\n",
    "    def forward(self, x):\n",
    "        y = x\n",
    "        y = self.relu(self.norm1(self.conv1(y)))\n",
    "        y = self.relu(self.norm2(self.conv2(y)))\n",
    "        y = self.relu(self.norm3(self.conv3(y)))\n",
    "\n",
    "        if self.downsample is not None:\n",
    "            x = self.downsample(x)\n",
    "\n",
    "        return self.relu(x+y)"
   ]
  },
  {
   "cell_type": "code",
   "execution_count": null,
   "id": "8d4cbbc9",
   "metadata": {},
   "outputs": [],
   "source": []
  }
 ],
 "metadata": {
  "kernelspec": {
   "display_name": "Python 3",
   "language": "python",
   "name": "python3"
  },
  "language_info": {
   "codemirror_mode": {
    "name": "ipython",
    "version": 3
   },
   "file_extension": ".py",
   "mimetype": "text/x-python",
   "name": "python",
   "nbconvert_exporter": "python",
   "pygments_lexer": "ipython3",
   "version": "3.9.7"
  }
 },
 "nbformat": 4,
 "nbformat_minor": 5
}
